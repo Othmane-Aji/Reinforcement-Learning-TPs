{
 "cells": [
  {
   "cell_type": "code",
   "execution_count": 1,
   "metadata": {},
   "outputs": [
    {
     "name": "stdout",
     "output_type": "stream",
     "text": [
      "Meilleur chemin trouvé : [(0, 0), (0, 1), (0, 2), (1, 2), (2, 2), (3, 2)]\n",
      "Score total : 5\n"
     ]
    }
   ],
   "source": [
    "import numpy as np\n",
    "\n",
    "# Définition de la grille\n",
    "grid = np.zeros((5, 5))  # Grille 5x5 initialisée à 0\n",
    "traps = [(1, 1), (1, 3)]  # Positions des pièges\n",
    "treasure = (3, 2)  # Position du trésor\n",
    "\n",
    "# Remplir les pièges avec une valeur très basse\n",
    "for trap in traps:\n",
    "    grid[trap] = -np.inf  # Éviter ces cases\n",
    "\n",
    "# Le trésor a une valeur de +10\n",
    "grid[treasure] = 10\n",
    "\n",
    "# Initialisation de la table de coût\n",
    "cost = np.full((5, 5), -np.inf)  # Toutes les cases commencent à -inf\n",
    "cost[0, 0] = 0  # Le départ a un coût de 0\n",
    "\n",
    "# Directions possibles : Bas, Droite, Gauche, Haut\n",
    "directions = [(1, 0), (0, 1), (0, -1), (-1, 0)]\n",
    "\n",
    "# Remplissage de la table de coût en programmation dynamique\n",
    "for i in range(5):\n",
    "    for j in range(5):\n",
    "        if (i, j) in traps:  # Ignorer les pièges\n",
    "            continue\n",
    "        if (i, j) == (0, 0):  # Ignorer la case de départ déjà initialisée\n",
    "            continue\n",
    "        \n",
    "        # Vérifier les cases adjacentes (on ne peut venir que d'une case adjacente)\n",
    "        best_prev_cost = -np.inf\n",
    "        for di, dj in directions:\n",
    "            ni, nj = i - di, j - dj\n",
    "            if 0 <= ni < 5 and 0 <= nj < 5 and grid[ni, nj] != -np.inf:\n",
    "                best_prev_cost = max(best_prev_cost, cost[ni, nj] - 1)  # -1 pour chaque pas\n",
    "        \n",
    "        cost[i, j] = max(cost[i, j], best_prev_cost)\n",
    "\n",
    "# Reconstruction du chemin optimal\n",
    "path = []\n",
    "current = treasure\n",
    "score = 10  # Bonus pour atteindre le trésor\n",
    "\n",
    "while current != (0, 0):\n",
    "    path.append(current)\n",
    "    i, j = current\n",
    "    best_next = None\n",
    "    best_value = -np.inf\n",
    "    \n",
    "    for di, dj in directions:\n",
    "        ni, nj = i - di, j - dj\n",
    "        if 0 <= ni < 5 and 0 <= nj < 5 and cost[ni, nj] > best_value:\n",
    "            best_next = (ni, nj)\n",
    "            best_value = cost[ni, nj]\n",
    "\n",
    "    if best_next is None:  # Impossible d'atteindre la cible\n",
    "        break\n",
    "    \n",
    "    current = best_next\n",
    "    score -= 1  # Chaque pas coûte -1\n",
    "\n",
    "path.append((0, 0))  # Ajouter le point de départ\n",
    "path.reverse()  # Remettre dans l'ordre\n",
    "\n",
    "print(\"Meilleur chemin trouvé :\", path)\n",
    "print(\"Score total :\", score)\n"
   ]
  },
  {
   "cell_type": "code",
   "execution_count": null,
   "metadata": {},
   "outputs": [],
   "source": []
  }
 ],
 "metadata": {
  "kernelspec": {
   "display_name": "Python 3",
   "language": "python",
   "name": "python3"
  },
  "language_info": {
   "codemirror_mode": {
    "name": "ipython",
    "version": 3
   },
   "file_extension": ".py",
   "mimetype": "text/x-python",
   "name": "python",
   "nbconvert_exporter": "python",
   "pygments_lexer": "ipython3",
   "version": "3.10.11"
  }
 },
 "nbformat": 4,
 "nbformat_minor": 2
}
