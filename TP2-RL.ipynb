{
 "cells": [
  {
   "cell_type": "markdown",
   "metadata": {},
   "source": [
    "### Objectif : ###\n",
    "\n",
    "#### Ce TP permet de mettre en pratique les concepts de l'apprentissage par renforcement en explorant l'algorithme Q-Learning. À travers des exercices progressifs, les étudiants implémenteront cet algorithme, analyseront l'impact des stratégies d'exploration et d'exploitation, et observeront la convergence des valeurs Q. L'environnement FrozenLake de OpenAI Gym servira à illustrer comment un agent optimise ses décisions via les mises à jour de sa Q-table."
   ]
  },
  {
   "cell_type": "markdown",
   "metadata": {},
   "source": [
    "### Exercice 1 : ###\n",
    "### Exploration de l'Environnement FrozenLake ###"
   ]
  },
  {
   "cell_type": "code",
   "execution_count": 6,
   "metadata": {},
   "outputs": [
    {
     "name": "stdout",
     "output_type": "stream",
     "text": [
      "Nombre d'états: Discrete(16)\n",
      "Nombre d'actions: Discrete(4)\n",
      "\n",
      "Épisode 1:\n",
      "État: (0, {'prob': 1}) -> Action: 1 -> Nouvel État: 4, Récompense: 0.0\n",
      "État: 4 -> Action: 0 -> Nouvel État: 8, Récompense: 0.0\n",
      "État: 8 -> Action: 0 -> Nouvel État: 12, Récompense: 0.0\n",
      "\n",
      "Épisode 2:\n",
      "État: (0, {'prob': 1}) -> Action: 0 -> Nouvel État: 4, Récompense: 0.0\n",
      "État: 4 -> Action: 0 -> Nouvel État: 0, Récompense: 0.0\n",
      "État: 0 -> Action: 1 -> Nouvel État: 4, Récompense: 0.0\n",
      "État: 4 -> Action: 3 -> Nouvel État: 5, Récompense: 0.0\n",
      "\n",
      "Épisode 3:\n",
      "État: (0, {'prob': 1}) -> Action: 1 -> Nouvel État: 0, Récompense: 0.0\n",
      "État: 0 -> Action: 1 -> Nouvel État: 4, Récompense: 0.0\n",
      "État: 4 -> Action: 2 -> Nouvel État: 0, Récompense: 0.0\n",
      "État: 0 -> Action: 0 -> Nouvel État: 0, Récompense: 0.0\n",
      "État: 0 -> Action: 0 -> Nouvel État: 0, Récompense: 0.0\n",
      "État: 0 -> Action: 3 -> Nouvel État: 0, Récompense: 0.0\n",
      "État: 0 -> Action: 0 -> Nouvel État: 0, Récompense: 0.0\n",
      "État: 0 -> Action: 2 -> Nouvel État: 1, Récompense: 0.0\n",
      "État: 1 -> Action: 2 -> Nouvel État: 5, Récompense: 0.0\n",
      "\n",
      "Épisode 4:\n",
      "État: (0, {'prob': 1}) -> Action: 1 -> Nouvel État: 1, Récompense: 0.0\n",
      "État: 1 -> Action: 3 -> Nouvel État: 0, Récompense: 0.0\n",
      "État: 0 -> Action: 3 -> Nouvel État: 0, Récompense: 0.0\n",
      "État: 0 -> Action: 2 -> Nouvel État: 4, Récompense: 0.0\n",
      "État: 4 -> Action: 3 -> Nouvel État: 5, Récompense: 0.0\n",
      "\n",
      "Épisode 5:\n",
      "État: (0, {'prob': 1}) -> Action: 3 -> Nouvel État: 1, Récompense: 0.0\n",
      "État: 1 -> Action: 2 -> Nouvel État: 1, Récompense: 0.0\n",
      "État: 1 -> Action: 1 -> Nouvel État: 0, Récompense: 0.0\n",
      "État: 0 -> Action: 3 -> Nouvel État: 0, Récompense: 0.0\n",
      "État: 0 -> Action: 0 -> Nouvel État: 4, Récompense: 0.0\n",
      "État: 4 -> Action: 3 -> Nouvel État: 0, Récompense: 0.0\n",
      "État: 0 -> Action: 2 -> Nouvel État: 1, Récompense: 0.0\n",
      "État: 1 -> Action: 0 -> Nouvel État: 0, Récompense: 0.0\n",
      "État: 0 -> Action: 1 -> Nouvel État: 1, Récompense: 0.0\n",
      "État: 1 -> Action: 1 -> Nouvel État: 2, Récompense: 0.0\n",
      "État: 2 -> Action: 3 -> Nouvel État: 3, Récompense: 0.0\n",
      "État: 3 -> Action: 0 -> Nouvel État: 3, Récompense: 0.0\n",
      "État: 3 -> Action: 2 -> Nouvel État: 3, Récompense: 0.0\n",
      "État: 3 -> Action: 3 -> Nouvel État: 3, Récompense: 0.0\n",
      "État: 3 -> Action: 0 -> Nouvel État: 2, Récompense: 0.0\n",
      "État: 2 -> Action: 0 -> Nouvel État: 2, Récompense: 0.0\n",
      "État: 2 -> Action: 3 -> Nouvel État: 1, Récompense: 0.0\n",
      "État: 1 -> Action: 3 -> Nouvel État: 0, Récompense: 0.0\n",
      "État: 0 -> Action: 0 -> Nouvel État: 0, Récompense: 0.0\n",
      "État: 0 -> Action: 0 -> Nouvel État: 4, Récompense: 0.0\n",
      "État: 4 -> Action: 3 -> Nouvel État: 4, Récompense: 0.0\n",
      "État: 4 -> Action: 1 -> Nouvel État: 4, Récompense: 0.0\n",
      "État: 4 -> Action: 1 -> Nouvel État: 4, Récompense: 0.0\n",
      "État: 4 -> Action: 0 -> Nouvel État: 0, Récompense: 0.0\n",
      "État: 0 -> Action: 0 -> Nouvel État: 0, Récompense: 0.0\n",
      "État: 0 -> Action: 3 -> Nouvel État: 0, Récompense: 0.0\n",
      "État: 0 -> Action: 3 -> Nouvel État: 1, Récompense: 0.0\n",
      "État: 1 -> Action: 3 -> Nouvel État: 0, Récompense: 0.0\n",
      "État: 0 -> Action: 0 -> Nouvel État: 0, Récompense: 0.0\n",
      "État: 0 -> Action: 1 -> Nouvel État: 0, Récompense: 0.0\n",
      "État: 0 -> Action: 2 -> Nouvel État: 0, Récompense: 0.0\n",
      "État: 0 -> Action: 3 -> Nouvel État: 0, Récompense: 0.0\n",
      "État: 0 -> Action: 3 -> Nouvel État: 0, Récompense: 0.0\n",
      "État: 0 -> Action: 0 -> Nouvel État: 0, Récompense: 0.0\n",
      "État: 0 -> Action: 1 -> Nouvel État: 4, Récompense: 0.0\n",
      "État: 4 -> Action: 1 -> Nouvel État: 5, Récompense: 0.0\n"
     ]
    }
   ],
   "source": [
    "import gymnasium as gym\n",
    "import numpy as np\n",
    "\n",
    "# Charger l’env\n",
    "env = gym.make(\"FrozenLake-v1\", is_slippery=True, render_mode=\"ansi\")\n",
    "\n",
    "# les infos d'espace d’états et d’actions\n",
    "print(\"Nombre d'états:\", env.observation_space)\n",
    "print(\"Nombre d'actions:\", env.action_space)\n",
    "\n",
    "# boucle pour agent prend des actions aléatoires pendant plusieurs épisodes\n",
    "num_episodes = 5\n",
    "for episode in range(num_episodes):\n",
    "    state = env.reset()  # Recupere l'état initial\n",
    "    done = False\n",
    "    print(f\"\\nÉpisode {episode + 1}:\")\n",
    "    \n",
    "    while not done:\n",
    "        action = env.action_space.sample()  # action aléatoire\n",
    "        new_state, reward, done, _, _ = env.step(action) # maj de state , reward et done si agent atteint objectif\n",
    "        print(f\"État: {state} -> Action: {action} -> Nouvel État: {new_state}, Récompense: {reward}\")\n",
    "        state = new_state\n"
   ]
  },
  {
   "cell_type": "markdown",
   "metadata": {},
   "source": [
    "### Exercice 2 : ###\n",
    "### Implémenintion de la Q-Table et Initialisation ###"
   ]
  },
  {
   "cell_type": "code",
   "execution_count": 7,
   "metadata": {},
   "outputs": [
    {
     "name": "stdout",
     "output_type": "stream",
     "text": [
      "Q-Table : \n",
      "[[0. 0. 0. 0.]\n",
      " [0. 0. 0. 0.]\n",
      " [0. 0. 0. 0.]\n",
      " [0. 0. 0. 0.]\n",
      " [0. 0. 0. 0.]\n",
      " [0. 0. 0. 0.]\n",
      " [0. 0. 0. 0.]\n",
      " [0. 0. 0. 0.]\n",
      " [0. 0. 0. 0.]\n",
      " [0. 0. 0. 0.]\n",
      " [0. 0. 0. 0.]\n",
      " [0. 0. 0. 0.]\n",
      " [0. 0. 0. 0.]\n",
      " [0. 0. 0. 0.]\n",
      " [0. 0. 0. 0.]\n",
      " [0. 0. 0. 0.]]\n"
     ]
    }
   ],
   "source": [
    "# Initialisation de la Q-Table\n",
    "num_states = env.observation_space.n\n",
    "num_actions = env.action_space.n\n",
    "q_table = np.zeros((num_states, num_actions))\n",
    "\n",
    "# Affichage de la Q-Table initialisée\n",
    "print(\"Q-Table : \")\n",
    "print(q_table)\n"
   ]
  },
  {
   "cell_type": "markdown",
   "metadata": {},
   "source": [
    "### Exercice 3 : ###\n",
    "### Implémentation du Q-Learning avec Mise à Jour ###"
   ]
  },
  {
   "cell_type": "code",
   "execution_count": 8,
   "metadata": {},
   "outputs": [
    {
     "name": "stdout",
     "output_type": "stream",
     "text": [
      "Q-Table après apprentissage :\n",
      "[[0.05158415 0.05119448 0.05931367 0.07491516]\n",
      " [0.03645247 0.0496811  0.04457252 0.0759356 ]\n",
      " [0.07966332 0.04880419 0.05038642 0.04164569]\n",
      " [0.01614044 0.0036161  0.00560339 0.00641948]\n",
      " [0.04311742 0.0312149  0.03597873 0.03529335]\n",
      " [0.         0.         0.         0.        ]\n",
      " [0.03801846 0.03263077 0.08602969 0.01219099]\n",
      " [0.         0.         0.         0.        ]\n",
      " [0.02235104 0.03194845 0.04789264 0.02243956]\n",
      " [0.03613896 0.06481674 0.11787418 0.0416214 ]\n",
      " [0.27033853 0.13150192 0.07923889 0.036221  ]\n",
      " [0.         0.         0.         0.        ]\n",
      " [0.         0.         0.         0.        ]\n",
      " [0.06384604 0.11118385 0.07470197 0.24108942]\n",
      " [0.07718977 0.19542683 0.16210185 0.5187822 ]\n",
      " [0.         0.         0.         0.        ]]\n"
     ]
    }
   ],
   "source": [
    "\n",
    "alpha = 0.1        # Taux d’apprentissage\n",
    "gamma = 0.99       # Facteur  (importance des récompenses futures).\n",
    "epsilon = 1.0      # Exploration initiale (beaucoup d'exploration)\n",
    "epsilon_decay = 0.995  # Diminution de epsilon (moins d’exploration avec le temps).\n",
    "num_episodes = 1000  # Nombre d'épisodes\n",
    "\n",
    "# Boucle d’apprentissage\n",
    "for episode in range(num_episodes):\n",
    "    state = env.reset()[0]\n",
    "    done = False\n",
    "\n",
    "    while not done:\n",
    "       # exploration vs exploitation , au debut  grand epsilon l'agent explore , epsilon diminue agent exploite \n",
    "        if np.random.uniform(0, 1) < epsilon:\n",
    "            action = env.action_space.sample()  # Exploration\n",
    "        else:\n",
    "            action = np.argmax(q_table[state])  # Exploitation\n",
    "        \n",
    "        new_state, reward, done, _, _ = env.step(action)\n",
    "\n",
    "        # Mise à jour de la Q-Table avec la règle de mise à jour du Q-Learning\n",
    "        q_table[state, action] = q_table[state, action] + alpha * (reward + gamma * np.max(q_table[new_state]) - q_table[state, action])\n",
    "\n",
    "        state = new_state\n",
    "    \n",
    "    # Réduction de epsilon pour favoriser l'exploitation\n",
    "    epsilon = max(epsilon * epsilon_decay, 0.01)\n",
    "\n",
    "print(\"Q-Table après apprentissage :\")\n",
    "print(q_table)\n"
   ]
  },
  {
   "cell_type": "markdown",
   "metadata": {},
   "source": [
    "### Exercice 4 : ###\n",
    "### Évaluation des Performances de l'Agent ###"
   ]
  },
  {
   "cell_type": "code",
   "execution_count": 11,
   "metadata": {},
   "outputs": [
    {
     "name": "stdout",
     "output_type": "stream",
     "text": [
      "Taux de réussite de l'agent : 13.0%\n"
     ]
    }
   ],
   "source": [
    "num_test_episodes = 100\n",
    "successes = 0\n",
    "\n",
    "for _ in range(num_test_episodes):\n",
    "    state = env.reset()[0]\n",
    "    done = False\n",
    "\n",
    "    while not done:\n",
    "        action = np.argmax(q_table[state])  # Action optimale dans q-table\n",
    "        new_state, reward, done, _, _ = env.step(action)\n",
    "        state = new_state\n",
    "\n",
    "        if reward == 1:\n",
    "            successes += 1\n",
    "\n",
    "# Mesurer le taux de réussite\n",
    "success_rate = (successes / num_test_episodes) * 100\n",
    "print(f\"Taux de réussite de l'agent : {success_rate}%\")\n"
   ]
  },
  {
   "cell_type": "code",
   "execution_count": null,
   "metadata": {},
   "outputs": [],
   "source": []
  },
  {
   "cell_type": "code",
   "execution_count": null,
   "metadata": {},
   "outputs": [],
   "source": []
  },
  {
   "cell_type": "code",
   "execution_count": null,
   "metadata": {},
   "outputs": [],
   "source": []
  },
  {
   "cell_type": "code",
   "execution_count": null,
   "metadata": {},
   "outputs": [],
   "source": []
  }
 ],
 "metadata": {
  "kernelspec": {
   "display_name": "Python 3",
   "language": "python",
   "name": "python3"
  },
  "language_info": {
   "codemirror_mode": {
    "name": "ipython",
    "version": 3
   },
   "file_extension": ".py",
   "mimetype": "text/x-python",
   "name": "python",
   "nbconvert_exporter": "python",
   "pygments_lexer": "ipython3",
   "version": "3.10.11"
  }
 },
 "nbformat": 4,
 "nbformat_minor": 2
}
